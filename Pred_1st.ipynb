{
  "nbformat": 4,
  "nbformat_minor": 0,
  "metadata": {
    "colab": {
      "name": "Pred 1st.ipynb",
      "provenance": [],
      "collapsed_sections": []
    },
    "kernelspec": {
      "name": "python3",
      "display_name": "Python 3"
    },
    "accelerator": "GPU"
  },
  "cells": [
    {
      "cell_type": "markdown",
      "metadata": {
        "id": "EjB1bUQVLfAL"
      },
      "source": [
        "Linear Regression and SVM "
      ]
    },
    {
      "cell_type": "code",
      "metadata": {
        "id": "qZUbonjU-zSq"
      },
      "source": [
        "import pandas as pd\n",
        "import numpy as np\n",
        "import matplotlib.pyplot as plt\n",
        "import seaborn as sns\n",
        "import pprint\n",
        "%matplotlib inline"
      ],
      "execution_count": null,
      "outputs": []
    },
    {
      "cell_type": "code",
      "metadata": {
        "colab": {
          "base_uri": "https://localhost:8080/"
        },
        "id": "HpPb3K90BWhJ",
        "outputId": "7e769fba-0f19-49ac-fe09-f69615a44810"
      },
      "source": [
        "df = pd.read_csv(\"/content/UP_DataNew_2019onwards.csv\")\n",
        "print(\"=\"*50)\n",
        "print(\"First Five Rows \",\"\\n\")\n",
        "print(df.head(),\"\\n\")\n",
        "\n",
        "print(\"=\"*50)\n",
        "print(\"Information About Dataset\",\"\\n\")\n",
        "print(df.info(),\"\\n\")\n",
        "\n",
        "print(\"=\"*50)\n",
        "print(\"Describe the Dataset \",\"\\n\")\n",
        "print(df.describe(),\"\\n\")\n",
        "\n",
        "print(\"=\"*50)\n",
        "print(\"Null Values t \",\"\\n\")\n",
        "print(df.isnull().sum(),\"\\n\")\n",
        "\n",
        "#df.tail()"
      ],
      "execution_count": null,
      "outputs": [
        {
          "output_type": "stream",
          "text": [
            "==================================================\n",
            "First Five Rows  \n",
            "\n",
            "         Date  Block      Time     Demand\n",
            "0  01-01-2019      1  00:15:00  11558.634\n",
            "1  01-01-2019      2  00:30:00  11353.716\n",
            "2  01-01-2019      3  00:45:00  11208.736\n",
            "3  01-01-2019      4  01:00:00  11114.265\n",
            "4  01-01-2019      5  01:15:00  10984.300 \n",
            "\n",
            "==================================================\n",
            "Information About Dataset \n",
            "\n",
            "<class 'pandas.core.frame.DataFrame'>\n",
            "RangeIndex: 66656 entries, 0 to 66655\n",
            "Data columns (total 4 columns):\n",
            " #   Column  Non-Null Count  Dtype  \n",
            "---  ------  --------------  -----  \n",
            " 0   Date    66656 non-null  object \n",
            " 1   Block   66656 non-null  int64  \n",
            " 2   Time    66656 non-null  object \n",
            " 3   Demand  66656 non-null  float64\n",
            "dtypes: float64(1), int64(1), object(2)\n",
            "memory usage: 2.0+ MB\n",
            "None \n",
            "\n",
            "==================================================\n",
            "Describe the Dataset  \n",
            "\n",
            "              Block        Demand\n",
            "count  66656.000000  66656.000000\n",
            "mean      48.484638  14647.419964\n",
            "std       27.714470   3525.246171\n",
            "min        1.000000   4363.450000\n",
            "25%       24.000000  11842.759000\n",
            "50%       48.000000  14191.887500\n",
            "75%       72.000000  17337.927500\n",
            "max       96.000000  24220.530000 \n",
            "\n",
            "==================================================\n",
            "Null Values t  \n",
            "\n",
            "Date      0\n",
            "Block     0\n",
            "Time      0\n",
            "Demand    0\n",
            "dtype: int64 \n",
            "\n"
          ],
          "name": "stdout"
        }
      ]
    },
    {
      "cell_type": "code",
      "metadata": {
        "id": "j7sLd0J9Bnkc"
      },
      "source": [
        ""
      ],
      "execution_count": null,
      "outputs": []
    },
    {
      "cell_type": "code",
      "metadata": {
        "colab": {
          "base_uri": "https://localhost:8080/",
          "height": 225
        },
        "id": "3hbVbteUBwQL",
        "outputId": "9f20edb8-afa3-455a-ebf0-bda9e7a6c0da"
      },
      "source": [
        "# Extract all Data Like Year MOnth Day Time etc\n",
        "dataset = df\n",
        "dataset[\"Month\"] = pd.to_datetime(df[\"Date\"]).dt.month\n",
        "dataset[\"Year\"] = pd.to_datetime(df[\"Date\"]).dt.year\n",
        "dataset[\"Date1\"] = pd.to_datetime(df[\"Date\"]).dt.date\n",
        "dataset[\"Time1\"] = pd.to_datetime(df[\"Time\"]).dt.time\n",
        "dataset[\"Minute\"] = pd.to_datetime(df[\"Time\"]).dt.minute\n",
        "dataset[\"Hour\"] = pd.to_datetime(df[\"Time\"]).dt.hour\n",
        "dataset = df.set_index(\"Time\")\n",
        "#dataset.index = pd.to_datetime(dataset.index)\n",
        "dataset.head()"
      ],
      "execution_count": null,
      "outputs": [
        {
          "output_type": "execute_result",
          "data": {
            "text/html": [
              "<div>\n",
              "<style scoped>\n",
              "    .dataframe tbody tr th:only-of-type {\n",
              "        vertical-align: middle;\n",
              "    }\n",
              "\n",
              "    .dataframe tbody tr th {\n",
              "        vertical-align: top;\n",
              "    }\n",
              "\n",
              "    .dataframe thead th {\n",
              "        text-align: right;\n",
              "    }\n",
              "</style>\n",
              "<table border=\"1\" class=\"dataframe\">\n",
              "  <thead>\n",
              "    <tr style=\"text-align: right;\">\n",
              "      <th></th>\n",
              "      <th>Date</th>\n",
              "      <th>Block</th>\n",
              "      <th>Demand</th>\n",
              "      <th>Month</th>\n",
              "      <th>Year</th>\n",
              "      <th>Date1</th>\n",
              "      <th>Time1</th>\n",
              "      <th>Minute</th>\n",
              "      <th>Hour</th>\n",
              "    </tr>\n",
              "    <tr>\n",
              "      <th>Time</th>\n",
              "      <th></th>\n",
              "      <th></th>\n",
              "      <th></th>\n",
              "      <th></th>\n",
              "      <th></th>\n",
              "      <th></th>\n",
              "      <th></th>\n",
              "      <th></th>\n",
              "      <th></th>\n",
              "    </tr>\n",
              "  </thead>\n",
              "  <tbody>\n",
              "    <tr>\n",
              "      <th>00:15:00</th>\n",
              "      <td>01-01-2019</td>\n",
              "      <td>1</td>\n",
              "      <td>11558.634</td>\n",
              "      <td>1</td>\n",
              "      <td>2019</td>\n",
              "      <td>2019-01-01</td>\n",
              "      <td>00:15:00</td>\n",
              "      <td>15</td>\n",
              "      <td>0</td>\n",
              "    </tr>\n",
              "    <tr>\n",
              "      <th>00:30:00</th>\n",
              "      <td>01-01-2019</td>\n",
              "      <td>2</td>\n",
              "      <td>11353.716</td>\n",
              "      <td>1</td>\n",
              "      <td>2019</td>\n",
              "      <td>2019-01-01</td>\n",
              "      <td>00:30:00</td>\n",
              "      <td>30</td>\n",
              "      <td>0</td>\n",
              "    </tr>\n",
              "    <tr>\n",
              "      <th>00:45:00</th>\n",
              "      <td>01-01-2019</td>\n",
              "      <td>3</td>\n",
              "      <td>11208.736</td>\n",
              "      <td>1</td>\n",
              "      <td>2019</td>\n",
              "      <td>2019-01-01</td>\n",
              "      <td>00:45:00</td>\n",
              "      <td>45</td>\n",
              "      <td>0</td>\n",
              "    </tr>\n",
              "    <tr>\n",
              "      <th>01:00:00</th>\n",
              "      <td>01-01-2019</td>\n",
              "      <td>4</td>\n",
              "      <td>11114.265</td>\n",
              "      <td>1</td>\n",
              "      <td>2019</td>\n",
              "      <td>2019-01-01</td>\n",
              "      <td>01:00:00</td>\n",
              "      <td>0</td>\n",
              "      <td>1</td>\n",
              "    </tr>\n",
              "    <tr>\n",
              "      <th>01:15:00</th>\n",
              "      <td>01-01-2019</td>\n",
              "      <td>5</td>\n",
              "      <td>10984.300</td>\n",
              "      <td>1</td>\n",
              "      <td>2019</td>\n",
              "      <td>2019-01-01</td>\n",
              "      <td>01:15:00</td>\n",
              "      <td>15</td>\n",
              "      <td>1</td>\n",
              "    </tr>\n",
              "  </tbody>\n",
              "</table>\n",
              "</div>"
            ],
            "text/plain": [
              "                Date  Block     Demand  ...     Time1  Minute Hour\n",
              "Time                                    ...                       \n",
              "00:15:00  01-01-2019      1  11558.634  ...  00:15:00      15    0\n",
              "00:30:00  01-01-2019      2  11353.716  ...  00:30:00      30    0\n",
              "00:45:00  01-01-2019      3  11208.736  ...  00:45:00      45    0\n",
              "01:00:00  01-01-2019      4  11114.265  ...  01:00:00       0    1\n",
              "01:15:00  01-01-2019      5  10984.300  ...  01:15:00      15    1\n",
              "\n",
              "[5 rows x 9 columns]"
            ]
          },
          "metadata": {
            "tags": []
          },
          "execution_count": 3
        }
      ]
    },
    {
      "cell_type": "code",
      "metadata": {
        "colab": {
          "base_uri": "https://localhost:8080/",
          "height": 344
        },
        "id": "23_dkdMxB-Q7",
        "outputId": "61cfde6c-3cc7-444f-e6d8-e8db139c0d07"
      },
      "source": [
        "from matplotlib import style\n",
        "\n",
        "fig = plt.figure()\n",
        "ax1 = plt.subplot2grid((1,1), (0,0))\n",
        "\n",
        "style.use('ggplot')\n",
        "\n",
        "sns.lineplot(x=dataset[\"Year\"], y=dataset[\"Demand\"], data=df)\n",
        "sns.set(rc={'figure.figsize':(6,6)})\n",
        "\n",
        "plt.title(\"Energy consumption in Year 2019\")\n",
        "plt.xlabel(\"Years\")\n",
        "plt.ylabel(\"Energy Demand\")\n",
        "plt.grid(True)\n",
        "plt.legend()\n",
        "\n",
        "for label in ax1.xaxis.get_ticklabels():\n",
        "    label.set_rotation(90)\n",
        "\n",
        "\n",
        "plt.title(\"Energy Demand According to Year\")"
      ],
      "execution_count": null,
      "outputs": [
        {
          "output_type": "stream",
          "text": [
            "No handles with labels found to put in legend.\n"
          ],
          "name": "stderr"
        },
        {
          "output_type": "execute_result",
          "data": {
            "text/plain": [
              "Text(0.5, 1.0, 'Energy Demand According to Year')"
            ]
          },
          "metadata": {
            "tags": []
          },
          "execution_count": 4
        },
        {
          "output_type": "display_data",
          "data": {
            "image/png": "[encoded data removed]",
            "text/plain": [
              "<Figure size 432x288 with 1 Axes>"
            ]
          },
          "metadata": {
            "tags": [],
            "needs_background": "light"
          }
        }
      ]
    },
    {
      "cell_type": "code",
      "metadata": {
        "colab": {
          "base_uri": "https://localhost:8080/",
          "height": 438
        },
        "id": "FPpgxcRXCF74",
        "outputId": "69c54631-10e8-469f-bdd9-6f4b659e097f"
      },
      "source": [
        "fig = plt.figure()\n",
        "ax1= fig.add_subplot(111)\n",
        "\n",
        "sns.lineplot(x=dataset[\"Block\"],y=dataset[\"Demand\"], data=df)\n",
        "plt.title(\"Energy Demand vs Time \")\n",
        "plt.xlabel(\"Time\")\n",
        "plt.grid(True, alpha=1)\n",
        "plt.legend()\n",
        "\n",
        "for label in ax1.xaxis.get_ticklabels():\n",
        "    label.set_rotation(90)"
      ],
      "execution_count": null,
      "outputs": [
        {
          "output_type": "stream",
          "text": [
            "No handles with labels found to put in legend.\n"
          ],
          "name": "stderr"
        },
        {
          "output_type": "display_data",
          "data": {
            "image/png": "[encoded data removed]",
            "text/plain": [
              "<Figure size 432x432 with 1 Axes>"
            ]
          },
          "metadata": {
            "tags": []
          }
        }
      ]
    },
    {
      "cell_type": "code",
      "metadata": {
        "id": "_YywAdoIDy8H"
      },
      "source": [
        "#wdf = pd.read_csv('/content/5 jul 2020 lko.csv')\n",
        "#wdf.head()"
      ],
      "execution_count": null,
      "outputs": []
    },
    {
      "cell_type": "code",
      "metadata": {
        "id": "eMN0MH-8FzL5"
      },
      "source": [
        "#NewDataSet = pd.DataFrame({,'Demand':dataset['Demand']})"
      ],
      "execution_count": null,
      "outputs": []
    },
    {
      "cell_type": "code",
      "metadata": {
        "id": "JFLELHggDZYM",
        "colab": {
          "base_uri": "https://localhost:8080/",
          "height": 431
        },
        "outputId": "65ae6951-39a0-4f86-b8de-8083ca01eefa"
      },
      "source": [
        "NewDataSet = dataset#[35040:69600]\n",
        "dfx = NewDataSet.iloc[:,2:3]\n",
        "dfx"
      ],
      "execution_count": null,
      "outputs": [
        {
          "output_type": "execute_result",
          "data": {
            "text/html": [
              "<div>\n",
              "<style scoped>\n",
              "    .dataframe tbody tr th:only-of-type {\n",
              "        vertical-align: middle;\n",
              "    }\n",
              "\n",
              "    .dataframe tbody tr th {\n",
              "        vertical-align: top;\n",
              "    }\n",
              "\n",
              "    .dataframe thead th {\n",
              "        text-align: right;\n",
              "    }\n",
              "</style>\n",
              "<table border=\"1\" class=\"dataframe\">\n",
              "  <thead>\n",
              "    <tr style=\"text-align: right;\">\n",
              "      <th></th>\n",
              "      <th>Demand</th>\n",
              "    </tr>\n",
              "    <tr>\n",
              "      <th>Time</th>\n",
              "      <th></th>\n",
              "    </tr>\n",
              "  </thead>\n",
              "  <tbody>\n",
              "    <tr>\n",
              "      <th>00:15:00</th>\n",
              "      <td>11558.63400</td>\n",
              "    </tr>\n",
              "    <tr>\n",
              "      <th>00:30:00</th>\n",
              "      <td>11353.71600</td>\n",
              "    </tr>\n",
              "    <tr>\n",
              "      <th>00:45:00</th>\n",
              "      <td>11208.73600</td>\n",
              "    </tr>\n",
              "    <tr>\n",
              "      <th>01:00:00</th>\n",
              "      <td>11114.26500</td>\n",
              "    </tr>\n",
              "    <tr>\n",
              "      <th>01:15:00</th>\n",
              "      <td>10984.30000</td>\n",
              "    </tr>\n",
              "    <tr>\n",
              "      <th>...</th>\n",
              "      <td>...</td>\n",
              "    </tr>\n",
              "    <tr>\n",
              "      <th>23:00:00</th>\n",
              "      <td>10582.94190</td>\n",
              "    </tr>\n",
              "    <tr>\n",
              "      <th>23:15:00</th>\n",
              "      <td>10416.41479</td>\n",
              "    </tr>\n",
              "    <tr>\n",
              "      <th>23:30:00</th>\n",
              "      <td>10267.69379</td>\n",
              "    </tr>\n",
              "    <tr>\n",
              "      <th>23:45:00</th>\n",
              "      <td>10153.01786</td>\n",
              "    </tr>\n",
              "    <tr>\n",
              "      <th>00:00:00</th>\n",
              "      <td>10035.01971</td>\n",
              "    </tr>\n",
              "  </tbody>\n",
              "</table>\n",
              "<p>66656 rows × 1 columns</p>\n",
              "</div>"
            ],
            "text/plain": [
              "               Demand\n",
              "Time                 \n",
              "00:15:00  11558.63400\n",
              "00:30:00  11353.71600\n",
              "00:45:00  11208.73600\n",
              "01:00:00  11114.26500\n",
              "01:15:00  10984.30000\n",
              "...               ...\n",
              "23:00:00  10582.94190\n",
              "23:15:00  10416.41479\n",
              "23:30:00  10267.69379\n",
              "23:45:00  10153.01786\n",
              "00:00:00  10035.01971\n",
              "\n",
              "[66656 rows x 1 columns]"
            ]
          },
          "metadata": {
            "tags": []
          },
          "execution_count": 6
        }
      ]
    },
    {
      "cell_type": "code",
      "metadata": {
        "id": "0PR1aczfDcaY"
      },
      "source": [
        "#dfx= dfx.drop(['windGust'],1)\n",
        "#dfx= dfx.drop(['temperature'],1)\n",
        "#dfx"
      ],
      "execution_count": null,
      "outputs": []
    },
    {
      "cell_type": "code",
      "metadata": {
        "colab": {
          "base_uri": "https://localhost:8080/",
          "height": 326
        },
        "id": "lCK1neSoDsMP",
        "outputId": "dc958e47-ef5d-4585-da8f-5d1b499eb25b"
      },
      "source": [
        "fore = 96\n",
        "dfx['Pred'] = dfx[['Demand']].shift(-fore)\n",
        "dfx.tail()"
      ],
      "execution_count": null,
      "outputs": [
        {
          "output_type": "stream",
          "text": [
            "/usr/local/lib/python3.7/dist-packages/ipykernel_launcher.py:2: SettingWithCopyWarning: \n",
            "A value is trying to be set on a copy of a slice from a DataFrame.\n",
            "Try using .loc[row_indexer,col_indexer] = value instead\n",
            "\n",
            "See the caveats in the documentation: https://pandas.pydata.org/pandas-docs/stable/user_guide/indexing.html#returning-a-view-versus-a-copy\n",
            "  \n"
          ],
          "name": "stderr"
        },
        {
          "output_type": "execute_result",
          "data": {
            "text/html": [
              "<div>\n",
              "<style scoped>\n",
              "    .dataframe tbody tr th:only-of-type {\n",
              "        vertical-align: middle;\n",
              "    }\n",
              "\n",
              "    .dataframe tbody tr th {\n",
              "        vertical-align: top;\n",
              "    }\n",
              "\n",
              "    .dataframe thead th {\n",
              "        text-align: right;\n",
              "    }\n",
              "</style>\n",
              "<table border=\"1\" class=\"dataframe\">\n",
              "  <thead>\n",
              "    <tr style=\"text-align: right;\">\n",
              "      <th></th>\n",
              "      <th>Demand</th>\n",
              "      <th>Pred</th>\n",
              "    </tr>\n",
              "    <tr>\n",
              "      <th>Time</th>\n",
              "      <th></th>\n",
              "      <th></th>\n",
              "    </tr>\n",
              "  </thead>\n",
              "  <tbody>\n",
              "    <tr>\n",
              "      <th>23:00:00</th>\n",
              "      <td>10582.94190</td>\n",
              "      <td>NaN</td>\n",
              "    </tr>\n",
              "    <tr>\n",
              "      <th>23:15:00</th>\n",
              "      <td>10416.41479</td>\n",
              "      <td>NaN</td>\n",
              "    </tr>\n",
              "    <tr>\n",
              "      <th>23:30:00</th>\n",
              "      <td>10267.69379</td>\n",
              "      <td>NaN</td>\n",
              "    </tr>\n",
              "    <tr>\n",
              "      <th>23:45:00</th>\n",
              "      <td>10153.01786</td>\n",
              "      <td>NaN</td>\n",
              "    </tr>\n",
              "    <tr>\n",
              "      <th>00:00:00</th>\n",
              "      <td>10035.01971</td>\n",
              "      <td>NaN</td>\n",
              "    </tr>\n",
              "  </tbody>\n",
              "</table>\n",
              "</div>"
            ],
            "text/plain": [
              "               Demand  Pred\n",
              "Time                       \n",
              "23:00:00  10582.94190   NaN\n",
              "23:15:00  10416.41479   NaN\n",
              "23:30:00  10267.69379   NaN\n",
              "23:45:00  10153.01786   NaN\n",
              "00:00:00  10035.01971   NaN"
            ]
          },
          "metadata": {
            "tags": []
          },
          "execution_count": 7
        }
      ]
    },
    {
      "cell_type": "code",
      "metadata": {
        "colab": {
          "base_uri": "https://localhost:8080/"
        },
        "id": "s_MQ_I1AERPv",
        "outputId": "f9cbf4b4-a4bc-40f3-9fd6-ac57753c9066"
      },
      "source": [
        "X = np.array(dfx.drop(['Pred'],1))\n",
        "\n",
        "X = X[:-fore]\n",
        "\n",
        "X"
      ],
      "execution_count": null,
      "outputs": [
        {
          "output_type": "execute_result",
          "data": {
            "text/plain": [
              "array([[11558.634],\n",
              "       [11353.716],\n",
              "       [11208.736],\n",
              "       ...,\n",
              "       [10466.01 ],\n",
              "       [10286.57 ],\n",
              "       [10147.6  ]])"
            ]
          },
          "metadata": {
            "tags": []
          },
          "execution_count": 8
        }
      ]
    },
    {
      "cell_type": "code",
      "metadata": {
        "colab": {
          "base_uri": "https://localhost:8080/"
        },
        "id": "UDKZ7yDGEylw",
        "outputId": "ccd04755-f43c-4dec-ff8b-1febe935f4f3"
      },
      "source": [
        "y = np.array(dfx['Pred'])\n",
        "\n",
        "y = y[:-fore]\n",
        "\n",
        "y"
      ],
      "execution_count": null,
      "outputs": [
        {
          "output_type": "execute_result",
          "data": {
            "text/plain": [
              "array([10993.96   , 10871.378  , 10694.375  , ..., 10267.69379,\n",
              "       10153.01786, 10035.01971])"
            ]
          },
          "metadata": {
            "tags": []
          },
          "execution_count": 9
        }
      ]
    },
    {
      "cell_type": "code",
      "metadata": {
        "id": "EoX7JqLkGtqp"
      },
      "source": [
        "from sklearn.model_selection import train_test_split"
      ],
      "execution_count": null,
      "outputs": []
    },
    {
      "cell_type": "code",
      "metadata": {
        "id": "l8syqFlzFZ5C"
      },
      "source": [
        "x_train, x_test, y_train, y_test = train_test_split(X, y, test_size=0.2) "
      ],
      "execution_count": null,
      "outputs": []
    },
    {
      "cell_type": "code",
      "metadata": {
        "id": "Lshun4UqHSyN"
      },
      "source": [
        "from sklearn.svm import SVR"
      ],
      "execution_count": null,
      "outputs": []
    },
    {
      "cell_type": "code",
      "metadata": {
        "id": "1siimTIcFxrh",
        "colab": {
          "base_uri": "https://localhost:8080/"
        },
        "outputId": "cbbd417b-4dc4-4602-b28b-717901f26cf3"
      },
      "source": [
        "svr_rbf = SVR(kernel='rbf' , C=1e3, gamma=0.1)\n",
        "svr_rbf.fit(x_train, y_train)"
      ],
      "execution_count": null,
      "outputs": [
        {
          "output_type": "execute_result",
          "data": {
            "text/plain": [
              "SVR(C=1000.0, cache_size=200, coef0=0.0, degree=3, epsilon=0.1, gamma=0.1,\n",
              "    kernel='rbf', max_iter=-1, shrinking=True, tol=0.001, verbose=False)"
            ]
          },
          "metadata": {
            "tags": []
          },
          "execution_count": 13
        }
      ]
    },
    {
      "cell_type": "code",
      "metadata": {
        "id": "SQjsM9VNHH6v",
        "colab": {
          "base_uri": "https://localhost:8080/"
        },
        "outputId": "86dbb822-ea7e-444c-8ad3-3f9db0eccf90"
      },
      "source": [
        "svm_confidence = svr_rbf.score(x_test, y_test)\n",
        "svm_confidence"
      ],
      "execution_count": null,
      "outputs": [
        {
          "output_type": "execute_result",
          "data": {
            "text/plain": [
              "0.8272162812594638"
            ]
          },
          "metadata": {
            "tags": []
          },
          "execution_count": 14
        }
      ]
    },
    {
      "cell_type": "code",
      "metadata": {
        "id": "xybB_JFHJp33"
      },
      "source": [
        "from sklearn.linear_model import LinearRegression"
      ],
      "execution_count": null,
      "outputs": []
    },
    {
      "cell_type": "code",
      "metadata": {
        "colab": {
          "base_uri": "https://localhost:8080/"
        },
        "id": "GwU8diQPIZVP",
        "outputId": "2ef11494-f421-449a-b033-413470a54ca5"
      },
      "source": [
        "lr = LinearRegression()\n",
        "lr.fit(x_train, y_train)"
      ],
      "execution_count": null,
      "outputs": [
        {
          "output_type": "execute_result",
          "data": {
            "text/plain": [
              "LinearRegression(copy_X=True, fit_intercept=True, n_jobs=None, normalize=False)"
            ]
          },
          "metadata": {
            "tags": []
          },
          "execution_count": 16
        }
      ]
    },
    {
      "cell_type": "code",
      "metadata": {
        "colab": {
          "base_uri": "https://localhost:8080/"
        },
        "id": "6UKqgh0BIwri",
        "outputId": "933e5c8d-a66b-408a-9788-4916f4093a2f"
      },
      "source": [
        "lr_confidence = lr.score(x_test, y_test)\n",
        "lr_confidence"
      ],
      "execution_count": null,
      "outputs": [
        {
          "output_type": "execute_result",
          "data": {
            "text/plain": [
              "0.8847515038722501"
            ]
          },
          "metadata": {
            "tags": []
          },
          "execution_count": 17
        }
      ]
    },
    {
      "cell_type": "code",
      "metadata": {
        "id": "jcwNILZPI-f4"
      },
      "source": [
        "x_fore = np.array(dfx.drop(['Pred'],1))[-fore:] "
      ],
      "execution_count": null,
      "outputs": []
    },
    {
      "cell_type": "code",
      "metadata": {
        "colab": {
          "base_uri": "https://localhost:8080/"
        },
        "id": "egHLv1T3JRuv",
        "outputId": "6695d4ed-f8fe-4de0-9e19-a3d93207fe2a"
      },
      "source": [
        "lr_pred = lr.predict(x_fore)\n",
        "lr_pred"
      ],
      "execution_count": null,
      "outputs": [
        {
          "output_type": "execute_result",
          "data": {
            "text/plain": [
              "array([10148.67643772, 10050.04756444,  9983.40980513,  9932.57837773,\n",
              "        9842.79196857,  9790.26551181,  9769.10835626,  9742.52659791,\n",
              "        9697.14603398,  9689.25269544,  9717.53551265,  9766.98045246,\n",
              "        9839.33292473,  9959.68810398, 10052.29770613, 10137.07805925,\n",
              "       10240.68576611, 10458.56750857, 10634.25177358, 10810.28005684,\n",
              "       11072.19178743, 11180.60895691, 11459.67991186, 11770.63593403,\n",
              "       11681.30418086, 11574.17096384, 11495.92084815, 11376.22647071,\n",
              "       11126.14950398, 11230.95301509, 11467.22736585, 11603.7112632 ,\n",
              "       11773.48116902, 12156.43758865, 12278.60223152, 12367.57152917,\n",
              "       12951.05052921, 13539.53621241, 13681.40155562, 13805.8482552 ,\n",
              "       13986.28297134, 14077.39893725, 14004.24814237, 13954.13433856,\n",
              "       13830.39925565, 13683.60137325, 13521.91417585, 13447.62631555,\n",
              "       13415.75900865, 13254.09368024, 13096.43849148, 12868.26814461,\n",
              "       12601.40747779, 12325.8914847 , 12146.19343207, 11944.25531856,\n",
              "       11776.51439649, 11657.33929011, 11588.23707015, 11586.25214406,\n",
              "       11387.60506956, 11336.29961246, 11447.54878836, 11501.12468131,\n",
              "       11487.79395046, 11628.93403475, 11686.4864929 , 11871.60467112,\n",
              "       11986.44090721, 12476.94775648, 13086.17601045, 13439.10887863,\n",
              "       13784.75337363, 14131.0623626 , 14187.69005193, 14250.2342723 ,\n",
              "       14192.48197517, 14054.33668308, 13841.32908884, 13555.06945926,\n",
              "       13267.09141196, 13018.37557851, 12771.6601562 , 12513.00005156,\n",
              "       12325.01895324, 12132.99031421, 11887.59086751, 11685.29840297,\n",
              "       11419.67913529, 11204.16487117, 10998.38201754, 10822.17064022,\n",
              "       10665.60227273, 10525.77516481, 10417.95714556, 10307.01558348])"
            ]
          },
          "metadata": {
            "tags": []
          },
          "execution_count": 19
        }
      ]
    },
    {
      "cell_type": "code",
      "metadata": {
        "id": "bG1TsXI0Kyc4",
        "colab": {
          "base_uri": "https://localhost:8080/"
        },
        "outputId": "96583e5a-67b0-4597-cea4-88365ab42dd7"
      },
      "source": [
        "svm_pred = svr_rbf.predict(x_fore)\n",
        "svm_pred"
      ],
      "execution_count": null,
      "outputs": [
        {
          "output_type": "execute_result",
          "data": {
            "text/plain": [
              "array([ 9942.21283356, 10177.38580311, 10114.27388487, 10248.71839664,\n",
              "        9940.73230221,  9733.97998891, 10752.69001375,  9728.4538428 ,\n",
              "       10012.43276463,  9965.83156906,  9942.29658013, 10651.43789559,\n",
              "        9581.22488256, 10276.6138507 ,  9868.96774422,  9920.02414656,\n",
              "       10067.72552953, 10338.32029627, 10786.34325261, 10673.88301925,\n",
              "       10869.70827961, 11556.29897262, 11732.61857434, 11835.82183858,\n",
              "       11569.11337346, 12059.78945203, 11391.54531407, 11239.63253816,\n",
              "       10994.01306199, 11053.52360185, 11226.98598195, 11343.24694711,\n",
              "       11626.94699893, 12440.00048439, 12163.96945192, 12252.10876389,\n",
              "       12803.91890496, 13761.96121447, 13831.08012376, 13999.85246589,\n",
              "       14170.1442652 , 14129.87865612, 14311.85346325, 13716.64955127,\n",
              "       14556.81246858, 13848.33853068, 13420.6992594 , 13956.24001904,\n",
              "       13569.36821648, 12977.62570474, 12831.37078502, 13075.57134357,\n",
              "       12257.06157949, 12172.23425058, 12120.63551329, 11858.832476  ,\n",
              "       11601.34905248, 11804.13531208, 11451.21333371, 11464.19680908,\n",
              "       11379.08596665, 11322.03448702, 11346.56236521, 11697.8041406 ,\n",
              "       11731.78256531, 11755.48056459, 11814.09326866, 12059.96429692,\n",
              "       11797.54313304, 12380.96978334, 13576.54280703, 13275.43376949,\n",
              "       13495.08520158, 14144.71303106, 14028.50811554, 13769.67166412,\n",
              "       14468.85454145, 14335.16042161, 13935.30472144, 13855.20387313,\n",
              "       13180.25501609, 13084.84855064, 12619.23260741, 12402.57351613,\n",
              "       12391.85546668, 11989.39583056, 12241.54794704, 11781.58014691,\n",
              "       11417.73778425, 11124.1298899 , 10917.49219204, 10745.89421178,\n",
              "       10601.1876462 , 10304.35053877, 10271.08218312, 10398.65265852])"
            ]
          },
          "metadata": {
            "tags": []
          },
          "execution_count": 20
        }
      ]
    },
    {
      "cell_type": "code",
      "metadata": {
        "colab": {
          "base_uri": "https://localhost:8080/",
          "height": 444
        },
        "id": "eOLdEtu7LKIq",
        "outputId": "06ca31b6-0b5f-42d2-eaae-e3fbadb59555"
      },
      "source": [
        "fig = plt.figure()\n",
        "ax1= fig.add_subplot(111)\n",
        "#ax2= fig.add_subplot(212)\n",
        "\n",
        "x1 = lr_pred\n",
        "y1 = svm_pred\n",
        "\n",
        "plt.plot(x1)\n",
        "#plt.plot(y1)\n",
        "\n",
        "plt.xlabel('Blocks')\n",
        "plt.ylabel(\"Energy Demand\")\n",
        "plt.title(\"Machine Learned the Pattern Predicting Future Values \")\n",
        "plt.legend()"
      ],
      "execution_count": null,
      "outputs": [
        {
          "output_type": "stream",
          "text": [
            "No handles with labels found to put in legend.\n"
          ],
          "name": "stderr"
        },
        {
          "output_type": "execute_result",
          "data": {
            "text/plain": [
              "<matplotlib.legend.Legend at 0x7f68d9f88510>"
            ]
          },
          "metadata": {
            "tags": []
          },
          "execution_count": 23
        },
        {
          "output_type": "display_data",
          "data": {
            "image/png": "[encoded data removed]",
            "text/plain": [
              "<Figure size 432x432 with 1 Axes>"
            ]
          },
          "metadata": {
            "tags": []
          }
        }
      ]
    },
    {
      "cell_type": "code",
      "metadata": {
        "id": "h4z0_oNwMaCS"
      },
      "source": [
        "dfx2=pd.read_csv('/content/UP_DataNew.csv')\n",
        "ds1 = pd.read_csv('/content/UP_DataNew_Prediction_13Sep.csv')"
      ],
      "execution_count": null,
      "outputs": []
    },
    {
      "cell_type": "code",
      "metadata": {
        "id": "8WR3RkuCfrj5",
        "colab": {
          "base_uri": "https://localhost:8080/"
        },
        "outputId": "100bdae8-7f8a-4637-bd58-cb8a9d6930df"
      },
      "source": [
        "\n",
        "ds = dfx2[141120:141216]\n",
        "ds = ds.reset_index()['Demand']\n",
        "ds1 = ds1.reset_index()['Predicted LR']\n",
        "ds,ds1"
      ],
      "execution_count": null,
      "outputs": [
        {
          "output_type": "execute_result",
          "data": {
            "text/plain": [
              "(0     23251.12\n",
              " 1     23223.71\n",
              " 2     23081.17\n",
              " 3     22910.96\n",
              " 4     22795.85\n",
              "         ...   \n",
              " 91    23902.41\n",
              " 92    23817.15\n",
              " 93    23762.92\n",
              " 94    23712.38\n",
              " 95    23555.42\n",
              " Name: Demand, Length: 96, dtype: float64, 0     22110.392648\n",
              " 1     22086.517023\n",
              " 2     22031.141182\n",
              " 3     21937.861877\n",
              " 4     21847.031427\n",
              "           ...     \n",
              " 91    22777.234881\n",
              " 92    22665.898631\n",
              " 93    22508.654458\n",
              " 94    22417.319709\n",
              " 95    22384.599064\n",
              " Name: Predicted LR, Length: 96, dtype: float64)"
            ]
          },
          "metadata": {
            "tags": []
          },
          "execution_count": 35
        }
      ]
    },
    {
      "cell_type": "code",
      "metadata": {
        "id": "H3hF3Szq5FWU"
      },
      "source": [
        "x=0\n",
        "lst=[]\n",
        "while x<96:\n",
        "  k = x1[x]+ds[x]+ds1[x]\n",
        "  lst.append(k/3)\n",
        "  x+=1"
      ],
      "execution_count": null,
      "outputs": []
    },
    {
      "cell_type": "code",
      "metadata": {
        "id": "6ikABHKi1_zJ",
        "colab": {
          "base_uri": "https://localhost:8080/"
        },
        "outputId": "d241ee13-08ad-4836-ac44-88033cc0a224"
      },
      "source": [
        "lst"
      ],
      "execution_count": null,
      "outputs": [
        {
          "output_type": "execute_result",
          "data": {
            "text/plain": [
              "[22340.483510880284,\n",
              " 22315.922390332988,\n",
              " 22232.63441257174,\n",
              " 22115.636197409953,\n",
              " 22018.58668950624,\n",
              " 21919.4286594458,\n",
              " 21800.004472259694,\n",
              " 21677.604180228765,\n",
              " 21585.37969796032,\n",
              " 21496.090742582226,\n",
              " 21384.49230415843,\n",
              " 21251.353075539726,\n",
              " 21108.929743548088,\n",
              " 21003.94174869571,\n",
              " 20898.523885713206,\n",
              " 20815.34181317605,\n",
              " 20693.926646717435,\n",
              " 20609.17686842583,\n",
              " 20548.771464491107,\n",
              " 20486.690162158367,\n",
              " 20127.620678631778,\n",
              " 19649.529796800573,\n",
              " 19018.22972616922,\n",
              " 18393.773160528206,\n",
              " 17449.261404349436,\n",
              " 16946.491529649284,\n",
              " 16683.619091746485,\n",
              " 16385.19866465444,\n",
              " 16226.758832795249,\n",
              " 16451.79132840142,\n",
              " 16272.251099277846,\n",
              " 16582.303572787427,\n",
              " 16794.269904865225,\n",
              " 16975.557334026733,\n",
              " 17220.949135143313,\n",
              " 17608.76334257853,\n",
              " 18045.489241964446,\n",
              " 18616.40764736594,\n",
              " 18768.282080047145,\n",
              " 18968.96009567398,\n",
              " 18950.020655241937,\n",
              " 19445.34165474544,\n",
              " 19487.547268893846,\n",
              " 19378.818849425752,\n",
              " 19396.061226334637,\n",
              " 19752.023485109527,\n",
              " 19905.035521001668,\n",
              " 19768.476569130824,\n",
              " 19709.241019726658,\n",
              " 19897.64252910059,\n",
              " 20026.328627035877,\n",
              " 19960.199256219414,\n",
              " 19885.25024470391,\n",
              " 19902.885732009556,\n",
              " 19978.384932839803,\n",
              " 20070.791268820958,\n",
              " 20182.13579356881,\n",
              " 20191.154758385423,\n",
              " 20209.06311810933,\n",
              " 20120.298669586806,\n",
              " 19999.73666254473,\n",
              " 19890.65425356194,\n",
              " 19782.006087947302,\n",
              " 19705.510753735118,\n",
              " 19085.744914719824,\n",
              " 18913.85852487858,\n",
              " 18752.130342793167,\n",
              " 18645.63624781497,\n",
              " 17902.266851713564,\n",
              " 17988.379413497172,\n",
              " 18133.340531612117,\n",
              " 18292.199505840665,\n",
              " 18591.379628623745,\n",
              " 19143.2214809968,\n",
              " 19719.57778270401,\n",
              " 20554.98558775681,\n",
              " 21294.93372565566,\n",
              " 21454.970274424068,\n",
              " 21958.882942385248,\n",
              " 22371.84766950527,\n",
              " 22521.73130977602,\n",
              " 22626.264082850957,\n",
              " 22745.68327888343,\n",
              " 22761.66707977249,\n",
              " 22832.101640807512,\n",
              " 23041.731785457654,\n",
              " 23077.346890850673,\n",
              " 23026.609398525514,\n",
              " 22989.35802740107,\n",
              " 23024.833641916626,\n",
              " 23013.152036908443,\n",
              " 22988.382556030298,\n",
              " 22888.035615798657,\n",
              " 22768.373956491178,\n",
              " 22692.521987702148,\n",
              " 22619.063355499336]"
            ]
          },
          "metadata": {
            "tags": []
          },
          "execution_count": 37
        }
      ]
    },
    {
      "cell_type": "code",
      "metadata": {
        "colab": {
          "base_uri": "https://localhost:8080/"
        },
        "id": "MEEpPhb7NXUD",
        "outputId": "2359e215-f056-4886-dc80-10cc85b4db34"
      },
      "source": [
        "dfx1= dfx2[144418:144514]\n",
        "dfx1=dfx1.reset_index()['Demand']\n",
        "dfx1"
      ],
      "execution_count": null,
      "outputs": [
        {
          "output_type": "execute_result",
          "data": {
            "text/plain": [
              "0     13186.55\n",
              "1     13062.54\n",
              "2     12861.77\n",
              "3     12775.16\n",
              "4     12732.99\n",
              "        ...   \n",
              "91    12723.44\n",
              "92    12647.66\n",
              "93    12535.25\n",
              "94    12149.27\n",
              "95    12092.44\n",
              "Name: Demand, Length: 96, dtype: float64"
            ]
          },
          "metadata": {
            "tags": []
          },
          "execution_count": 26
        }
      ]
    },
    {
      "cell_type": "code",
      "metadata": {
        "id": "AvLAARchNhr4"
      },
      "source": [
        "#plt.plot(lst, label = 'LR')\n",
        "#plt.plot(y1, label = 'SVM')\n",
        "plt.plot(dfx1, label = 'Actual')\n",
        "plt.legend(bbox_to_anchor=(1.05, 1), loc='upper left', borderaxespad=0.)"
      ],
      "execution_count": null,
      "outputs": []
    },
    {
      "cell_type": "code",
      "metadata": {
        "id": "1GybnqVEcQDi"
      },
      "source": [
        "import numpy as np\n",
        "\n",
        "def mean_absolute_percentage_error(y_true, y_pred): \n",
        "    y_true, y_pred = np.array(y_true), np.array(y_pred)\n",
        "    return np.mean(np.abs((y_true - y_pred) / y_true)) * 100"
      ],
      "execution_count": null,
      "outputs": []
    },
    {
      "cell_type": "code",
      "metadata": {
        "colab": {
          "base_uri": "https://localhost:8080/"
        },
        "id": "sJSypyVogark",
        "outputId": "76832bba-7af7-4c85-c0e7-0234191873bc"
      },
      "source": [
        "mean_absolute_percentage_error(dfx1,lst)"
      ],
      "execution_count": null,
      "outputs": [
        {
          "output_type": "execute_result",
          "data": {
            "text/plain": [
              "3.093066322664646"
            ]
          },
          "metadata": {
            "tags": []
          },
          "execution_count": 41
        }
      ]
    },
    {
      "cell_type": "code",
      "metadata": {
        "id": "FvO2AD0Hgj_o"
      },
      "source": [
        "#mean_absolute_percentage_error(dfx1,y1)"
      ],
      "execution_count": null,
      "outputs": []
    },
    {
      "cell_type": "code",
      "metadata": {
        "id": "2bFikJaBgrpq"
      },
      "source": [
        "#print(dfx1,x1)"
      ],
      "execution_count": null,
      "outputs": []
    },
    {
      "cell_type": "code",
      "metadata": {
        "colab": {
          "base_uri": "https://localhost:8080/",
          "height": 402
        },
        "id": "-K34ilGcBAFH",
        "outputId": "061d4b36-5f54-4146-c018-148e70788e18"
      },
      "source": [
        "newdf = pd.DataFrame({'Predicted LR': lst, 'Actual': dfx1})#, 'Predicted SVR': y1})\n",
        "newdf"
      ],
      "execution_count": null,
      "outputs": [
        {
          "output_type": "execute_result",
          "data": {
            "text/html": [
              "<div>\n",
              "<style scoped>\n",
              "    .dataframe tbody tr th:only-of-type {\n",
              "        vertical-align: middle;\n",
              "    }\n",
              "\n",
              "    .dataframe tbody tr th {\n",
              "        vertical-align: top;\n",
              "    }\n",
              "\n",
              "    .dataframe thead th {\n",
              "        text-align: right;\n",
              "    }\n",
              "</style>\n",
              "<table border=\"1\" class=\"dataframe\">\n",
              "  <thead>\n",
              "    <tr style=\"text-align: right;\">\n",
              "      <th></th>\n",
              "      <th>Predicted LR</th>\n",
              "      <th>Actual</th>\n",
              "    </tr>\n",
              "  </thead>\n",
              "  <tbody>\n",
              "    <tr>\n",
              "      <th>0</th>\n",
              "      <td>18648.823908</td>\n",
              "      <td>20245.49</td>\n",
              "    </tr>\n",
              "    <tr>\n",
              "      <th>1</th>\n",
              "      <td>18584.679272</td>\n",
              "      <td>20149.01</td>\n",
              "    </tr>\n",
              "    <tr>\n",
              "      <th>2</th>\n",
              "      <td>18432.504378</td>\n",
              "      <td>19964.22</td>\n",
              "    </tr>\n",
              "    <tr>\n",
              "      <th>3</th>\n",
              "      <td>18262.735370</td>\n",
              "      <td>19883.11</td>\n",
              "    </tr>\n",
              "    <tr>\n",
              "      <th>4</th>\n",
              "      <td>18116.538007</td>\n",
              "      <td>19676.10</td>\n",
              "    </tr>\n",
              "    <tr>\n",
              "      <th>...</th>\n",
              "      <td>...</td>\n",
              "      <td>...</td>\n",
              "    </tr>\n",
              "    <tr>\n",
              "      <th>91</th>\n",
              "      <td>19366.823943</td>\n",
              "      <td>20678.21</td>\n",
              "    </tr>\n",
              "    <tr>\n",
              "      <th>92</th>\n",
              "      <td>19220.694784</td>\n",
              "      <td>20467.42</td>\n",
              "    </tr>\n",
              "    <tr>\n",
              "      <th>93</th>\n",
              "      <td>19113.160142</td>\n",
              "      <td>20399.27</td>\n",
              "    </tr>\n",
              "    <tr>\n",
              "      <th>94</th>\n",
              "      <td>18990.928389</td>\n",
              "      <td>20292.44</td>\n",
              "    </tr>\n",
              "    <tr>\n",
              "      <th>95</th>\n",
              "      <td>18904.697618</td>\n",
              "      <td>20120.54</td>\n",
              "    </tr>\n",
              "  </tbody>\n",
              "</table>\n",
              "<p>96 rows × 2 columns</p>\n",
              "</div>"
            ],
            "text/plain": [
              "    Predicted LR    Actual\n",
              "0   18648.823908  20245.49\n",
              "1   18584.679272  20149.01\n",
              "2   18432.504378  19964.22\n",
              "3   18262.735370  19883.11\n",
              "4   18116.538007  19676.10\n",
              "..           ...       ...\n",
              "91  19366.823943  20678.21\n",
              "92  19220.694784  20467.42\n",
              "93  19113.160142  20399.27\n",
              "94  18990.928389  20292.44\n",
              "95  18904.697618  20120.54\n",
              "\n",
              "[96 rows x 2 columns]"
            ]
          },
          "metadata": {
            "tags": []
          },
          "execution_count": 1791
        }
      ]
    },
    {
      "cell_type": "code",
      "metadata": {
        "id": "nkoNpGwMFuFu"
      },
      "source": [
        "newdf.to_csv(r'/content/UP_DataNew_Prediction_30Sep.csv')"
      ],
      "execution_count": null,
      "outputs": []
    },
    {
      "cell_type": "code",
      "metadata": {
        "id": "89P57HxxQNd8"
      },
      "source": [
        "# Import library for VIF\n",
        "#from statsmodels.stats.outliers_influence import variance_inflation_factor\n",
        "\n",
        "#def calc_vif(Z):\n",
        "\n",
        "    # Calculating VIF\n",
        "    #vif = pd.DataFrame()\n",
        "    #vif[\"variables\"] = Z.columns\n",
        "    #vif[\"VIF\"] = [variance_inflation_factor(Z.values, i) for i in range(Z.shape[1])]\n",
        "\n",
        "    #return(vif)\n",
        "\n",
        "#Z = dfx.iloc[:,0:5]\n",
        "#print(Z)\n",
        "#calc_vif(Z)"
      ],
      "execution_count": null,
      "outputs": []
    },
    {
      "cell_type": "code",
      "metadata": {
        "id": "lPyMXYIWpGcn"
      },
      "source": [
        "#dd = dfx2[116928:117024]\n",
        "#dd = dd.reset_index()['Demand']\n",
        "#dg = dfx2[151008:151104]\n",
        "#dg = dg.reset_index()['Demand']"
      ],
      "execution_count": null,
      "outputs": []
    },
    {
      "cell_type": "code",
      "metadata": {
        "id": "GJc5otYMQRue"
      },
      "source": [
        "#plt.plot(dd)\n",
        "#plt.plot(dg)"
      ],
      "execution_count": null,
      "outputs": []
    },
    {
      "cell_type": "code",
      "metadata": {
        "id": "3evw3qLqo30R"
      },
      "source": [
        "#mean_absolute_percentage_error(dd,dg)"
      ],
      "execution_count": null,
      "outputs": []
    },
    {
      "cell_type": "code",
      "metadata": {
        "id": "LUG7uyYXALZM"
      },
      "source": [
        ""
      ],
      "execution_count": null,
      "outputs": []
    },
    {
      "cell_type": "code",
      "metadata": {
        "id": "_COJFGODALPt"
      },
      "source": [
        ""
      ],
      "execution_count": null,
      "outputs": []
    }
  ]
}